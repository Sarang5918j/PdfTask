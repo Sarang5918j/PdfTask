{
 "cells": [
  {
   "cell_type": "code",
   "execution_count": 146,
   "metadata": {},
   "outputs": [],
   "source": [
    "import pydocparser\n",
    "import requests\n",
    "from bs4 import BeautifulSoup\n",
    "import webbrowser\n",
    "import re"
   ]
  },
  {
   "cell_type": "code",
   "execution_count": null,
   "metadata": {},
   "outputs": [],
   "source": [
    "\n",
    "api_key = 'a97eb5d696857fea8bfa9e57fb9994017a3bb7da'\n",
    "parser_id = 'paper_parser'\n",
    "\n",
    "parser = pydocparser.Parser()\n",
    "parser.login(api_key)\n",
    "result = parser.ping()\n",
    "print(result)"
   ]
  },
  {
   "cell_type": "code",
   "execution_count": 8,
   "metadata": {},
   "outputs": [],
   "source": [
    "id = parser.upload_file_by_path(\"data_samples/electricity-theft-detection-using-machine-learning-IJERTCONV10IS04024.pdf\", \"paper_parser\") "
   ]
  },
  {
   "cell_type": "code",
   "execution_count": 9,
   "metadata": {},
   "outputs": [],
   "source": [
    "data = parser.get_one_result(\"paper_parser\", id)\n",
    "data"
   ]
  },
  {
   "cell_type": "code",
   "execution_count": 11,
   "metadata": {},
   "outputs": [
    {
     "data": {
      "text/plain": [
       "\"-Energy Meter, Convolutional Neural Network ,                   additionally affect the decisions made through the SO\\n   Advanced Meter Infrastructure, System Operators, System                  misleading behaviour does not simplest cause economic\\n   Grid                                                                     regarding grid management, which can also reason the\\n                     I. INTRODUCTION                                        instability of the grid or blackout in intense cases . energy\\n Energy meter, or kilowatt-hour meter is a tool that measures               theft is a critical trouble inside the existing power grid that\\nthe amount of electric energy consumed via a house, a                       causes hefty monetary losses. We deal with in this paper is a\\ncommercial enterprise,or an electrically powered tool                       way to permit the to be able to display load, compute\\n.Electric utilities use power meters installed at purchaser                 payments, and discover fraudulent clients with keeping their\\npremises for billing and monitoring functions. they're usually              privateness.\\ncalibrated in billing units, they may be commonly read once\""
      ]
     },
     "execution_count": 11,
     "metadata": {},
     "output_type": "execute_result"
    }
   ],
   "source": [
    "keywords = data[0]['keywords']\n",
    "references = data[0]['references']\n",
    "abstract = data[0]['abstract']"
   ]
  },
  {
   "cell_type": "code",
   "execution_count": 151,
   "metadata": {},
   "outputs": [],
   "source": [
    "def convert_to_file(text, file_path):\n",
    "    \n",
    "    with open(file_path, 'w') as file:\n",
    "        file.write(text)\n",
    "\n",
    "    return file_path"
   ]
  },
  {
   "cell_type": "code",
   "execution_count": 15,
   "metadata": {},
   "outputs": [
    {
     "data": {
      "text/plain": [
       "'extracted_text/references.txt'"
      ]
     },
     "execution_count": 15,
     "metadata": {},
     "output_type": "execute_result"
    }
   ],
   "source": [
    "convert_to_file(references, 'extracted_text/')"
   ]
  },
  {
   "cell_type": "code",
   "execution_count": 158,
   "metadata": {},
   "outputs": [],
   "source": [
    "def extract_words_in_quotes(input_string):\n",
    "    clean = re.sub(r'\\n', ' ', input_string)\n",
    "    pattern = r'[“\"]([^”\"]*)[”\"]'\n",
    "    matches = re.findall(pattern, clean)\n",
    "    \n",
    "    return matches"
   ]
  },
  {
   "cell_type": "code",
   "execution_count": 161,
   "metadata": {},
   "outputs": [],
   "source": [
    "names = extract_words_in_quotes(references)"
   ]
  },
  {
   "cell_type": "markdown",
   "metadata": {},
   "source": [
    "Scraping"
   ]
  },
  {
   "cell_type": "code",
   "execution_count": 139,
   "metadata": {},
   "outputs": [],
   "source": [
    "def get_abstract_from_paper_url(paper_page_url, headers):\n",
    "    response = requests.get(paper_page_url, headers=headers)\n",
    "\n",
    "    if response.status_code == 200:\n",
    "        paper_soup = BeautifulSoup(response.text, 'html.parser')\n",
    "\n",
    "        abstract_element = paper_soup.find('div', {'class': 'nova-legacy-e-text nova-legacy-e-text--size-m nova-legacy-e-text--family-sans-serif nova-legacy-e-text--spacing-none nova-legacy-e-text--color-grey-800 research-detail-middle-section__abstract'})\n",
    "        \n",
    "        if abstract_element:\n",
    "            abstract = abstract_element.get_text(strip=True)\n",
    "            return abstract\n",
    "        else:\n",
    "            return \"Abstract not found.\"\n",
    "    else:\n",
    "        return f\"Failed to retrieve paper page: {response.status_code}\""
   ]
  },
  {
   "cell_type": "code",
   "execution_count": 145,
   "metadata": {},
   "outputs": [
    {
     "name": "stdout",
     "output_type": "stream",
     "text": [
      "found\n",
      "Energy Theft Detection With Energy Privacy Preservation in the Smart Grid\n",
      "full link:  https://www.researchgate.net/publication/331578806_Energy_Theft_Detection_With_Energy_Privacy_Preservation_in_the_Smart_Grid?_sg=bR1ptsK9e675dEJxIeZgQmj71xnwJubYsbT9uxlnJoBYreJNZ_vDUmwApR399DD06Hw0wuyhsV09W34\n",
      "abstact:  As a prominent early instance of the IoT in the smart grid, the advanced metering infrastructure (AMI) provides real-time information from smart meters to both grid operators and customers, exploiting the full potential of demand response. However, the newly-collected information without security protection can be maliciously altered and result in huge loss. In this paper, we propose an energy theft detection scheme with energy privacy preservation in the smart grid. Specially, we use combined convolutional neural networks (CNN) to detect abnormal behavior of the metering data from a long-period pattern observation. In addition, we employ Paillier algorithm to protect the energy privacy. In other words, the users’ energy data are securely protected in the transmission and the data disclosure is minimized. Our security analysis demonstrates that in our scheme data privacy and authentication are both achieved. Experimental results illustrate that our modified CNN model can effectively detect abnormal behaviors at an accuracy up to 92.67%.\n",
      "Match found! Opening link for 'Energy Theft Detection With Energy Privacy Preservation in the Smart Grid'\n"
     ]
    }
   ],
   "source": [
    "def open_paper_link_by_name(paper_name):\n",
    "    base_url = \"https://www.researchgate.net/search/publication?q=\"\n",
    "    search_url = base_url + paper_name.replace(\" \", \"+\")\n",
    "    headers = {\n",
    "    'User-Agent': 'Mozilla/5.0 (Windows NT 10.0; Win64; x64) AppleWebKit/537.36 (KHTML, like Gecko) Chrome/91.0.4472.124 Safari/537.36',\n",
    "    }\n",
    "\n",
    "\n",
    "    # Make a request to the ResearchGate search page\n",
    "    response = requests.get(search_url, headers=headers)\n",
    "\n",
    "    if response.status_code == 200:\n",
    "        soup = BeautifulSoup(response.text, 'html.parser')\n",
    "\n",
    "        # Extract all search results\n",
    "        result_links = soup.find_all('a', {'class':  ['nova-legacy-e-link', 'nova-legacy-e-link--color-inherit', 'nova-legacy-e-link--theme-bare']})\n",
    "\n",
    "        if result_links:\n",
    "            print(\"found\")\n",
    "\n",
    "            for link in result_links:\n",
    "                result_name = link.get_text(strip=True)\n",
    "                print(result_name)\n",
    "\n",
    "                # Check if the result name matches the given paper name\n",
    "                if paper_name.lower() in result_name.lower():\n",
    "                    paper_page_url = \"https://www.researchgate.net/\" + link['href']\n",
    "                    abstract = get_abstract_from_paper_url(paper_page_url, headers=headers)\n",
    "                    print(\"full link: \",paper_page_url)\n",
    "                    print(\"abstact: \",abstract)\n",
    "\n",
    "                    return f\"Match found! Opening link for '{result_name}'\"\n",
    "            \n",
    "            return f\"No exact match found for '{paper_name}' in the search results.\"\n",
    "        else:\n",
    "            return f\"No results found for '{paper_name}'.\"\n",
    "    else:\n",
    "        return f\"Failed to perform the search: {response.status_code}\"\n",
    "\n",
    "# Example usage\n",
    "paper_name_to_search = \"Energy theft detection with energy privacy preservation in the smart grid\"\n",
    "result_message = open_paper_link_by_name(paper_name_to_search)\n",
    "print(result_message)\n"
   ]
  }
 ],
 "metadata": {
  "kernelspec": {
   "display_name": "myenv",
   "language": "python",
   "name": "python3"
  },
  "language_info": {
   "codemirror_mode": {
    "name": "ipython",
    "version": 3
   },
   "file_extension": ".py",
   "mimetype": "text/x-python",
   "name": "python",
   "nbconvert_exporter": "python",
   "pygments_lexer": "ipython3",
   "version": "3.10.9"
  }
 },
 "nbformat": 4,
 "nbformat_minor": 2
}
