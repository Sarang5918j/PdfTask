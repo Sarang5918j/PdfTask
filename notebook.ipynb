{
 "cells": [
  {
   "cell_type": "code",
   "execution_count": 103,
   "metadata": {},
   "outputs": [],
   "source": [
    "import pydocparser\n",
    "import requests\n",
    "from bs4 import BeautifulSoup\n",
    "import webbrowser\n",
    "import re"
   ]
  },
  {
   "cell_type": "code",
   "execution_count": 104,
   "metadata": {},
   "outputs": [
    {
     "name": "stdout",
     "output_type": "stream",
     "text": [
      "pong\n"
     ]
    }
   ],
   "source": [
    "\n",
    "api_key = 'a97eb5d696857fea8bfa9e57fb9994017a3bb7da'\n",
    "parser_id = 'paper_parser'\n",
    "\n",
    "parser = pydocparser.Parser()\n",
    "parser.login(api_key)\n",
    "result = parser.ping()\n",
    "print(result)"
   ]
  },
  {
   "cell_type": "code",
   "execution_count": 105,
   "metadata": {},
   "outputs": [],
   "source": [
    "id = parser.upload_file_by_path(\"data_samples/electricity-theft-detection-using-machine-learning-IJERTCONV10IS04024.pdf\", \"paper_parser\") "
   ]
  },
  {
   "cell_type": "code",
   "execution_count": 106,
   "metadata": {},
   "outputs": [
    {
     "data": {
      "text/plain": [
       "[{'id': 'c6e924b6ad0cadbaecc66623c208609d',\n",
       "  'document_id': '58ad73d3ccadac478dd59d2e607039f5',\n",
       "  'remote_id': '',\n",
       "  'file_name': 'electricity-theft-detection-using-machine-learning-IJERTCONV10IS04024.pdf',\n",
       "  'media_link': 'https://api.docparser.com/v1/document/media/lin7He2PPDPdAoIHbLLl3i3efaZVYkEKiQyu5qVX1Ah3alakMyntbBQaYV03A5jRTBjON-ogp_eW5dqfJw8rvR5rh-dkdqzHAsD8KyldkEk',\n",
       "  'media_link_original': 'https://api.docparser.com/v1/document/media/lin7He2PPDPdAoIHbLLl3i3efaZVYkEKiQyu5qVX1Ah3alakMyntbBQaYV03A5jRTBjON-ogp_eW5dqfJw8rvR5rh-dkdqzHAsD8KyldkEk/original',\n",
       "  'media_link_data': 'https://api.docparser.com/v1/document/media/lin7He2PPDPdAoIHbLLl3i3efaZVYkEKiQyu5qVX1Ah3alakMyntbBQaYV03A5jRTBjON-ogp_eW5dqfJw8rvR5rh-dkdqzHAsD8KyldkEk/data',\n",
       "  'page_count': 4,\n",
       "  'uploaded_at': '2024-01-24T15:50:35+00:00',\n",
       "  'processed_at': '2024-01-24T15:50:36+00:00',\n",
       "  'uploaded_at_utc': '2024-01-24T15:50:35+00:00',\n",
       "  'uploaded_at_user': '2024-01-24T07:50:35+00:00',\n",
       "  'processed_at_utc': '2024-01-24T15:50:36+00:00',\n",
       "  'processed_at_user': '2024-01-24T07:50:36+00:00',\n",
       "  'keywords': '-Energy Meter, Convolutional Neural Network ,\\nAdvanced Meter Infrastructure, System Operators, System\\nGrid',\n",
       "  'abstract': '- Nowadays energy is very crucial , so we want to make\\nthe proper use of energy sources particularly electricity\\nutilization. As one of the foremost elements of the nontechnical\\nlosses (NTLs) in distribution networks, the energy theft reasons\\ngreat harm to strength grids, which influences power supply\\ngreat and decreases working profits. In advanced metering\\ninfrastructure (AMI), smart meters (SMs) are hooked up on the\\ncustomer aspect to ship excellent- grained energy consumption\\nreadings periodically for load tracking, electricity management,\\nbilling, and so forth. however, fraudulent purchasers launch\\nenergy robbery cyber- attacks with the aid of reporting false\\nreadings to lessen their bills illegally. these assaults do not best\\nmotive monetary losses however can also degrade the grid\\noverall performance due to the fact the readings are used for\\ngrid management. To perceive those attackers, the prevailing\\nschemes rent device gaining knowledge of fashions using the\\npurchasers exceptional-grained readings, which violates the\\nclients privacy via revealing their way of life. on this paper, we\\nadvise an green scheme to discover strength robbery, compute\\npayments and display loads while maintain the purchasers\\nprivacy. The idea is that encrypt their readings using symmetric\\nencryption, and the usage of k method set of rules\\n(i)Compute the bills following dynamic pricing approach,\\n(ii)Reveal the grid load, and\\n(iii)Evaluate a gadget-mastering version to discover\\nfraudulent clients, without being capable of learn the person\\nreadings to hold consumers privacy.\\nWe adapted a symmetric encryption scheme so that the\\nencrypted readings are aggregated for billing and load\\ntracking and only the aggregated fee is found out to the SO.\\nKeywords -Energy Meter, Convolutional Neural Network ,\\nAdvanced Meter Infrastructure, System Operators, System\\nGrid',\n",
       "  'references': '[1] D. Yao, M. Wen, X. Liang, Z. Fu, K. Zhang, and B. Yang, “Energy\\ntheft detection with energy privacy preservation in the smart grid,”\\nIEEE Internet of Things Journal, vol. 6, no. 5, pp. 7659-7669, Oct.\\n2019\\n[2] P. Jokar, N. Arianpoo, and V. C. M. Leung, “Electricity theft\\ndetection in AMI using customers consumption patterns,” IEEE\\nTransactions on Smart Grid, vol. 7, no. 1, pp. 216-226, Jan. 2016\\n[3] M. Nabil, M. Ismail, M. M. E. A. Mahmoud, W. Alasmary, and E\\nSer pedin, “PPETD: privacypreserving electricity theft detection\\nscheme with load monitoring and billing for AMI networks,” IEEE\\nAccess, vol. 7, pp. 96 334-96 348, Jun. 2019\\n[4] F. Pedregosa et al., “Scikit-learn: Machine learning in Python,”\\nJournal of Machine Learning Research, vol. 12, pp. 2825- 830, Oct.\\n2011\\n[5] S. Salinas and P. Li, “Privacy-preserving energy theft detection in\\nmicrogrids: A state estimation approach,” IEEE Transactions on\\nPower Systems, vol. 31, no. 2, pp. 883-894, Mar. 2016.\\n[6] D. Yao, M. Wen, X. Liang, Z. Fu, K. Zhang, and B. Yang, “Energy\\ntheft detection with energy privacy preservation in the smart grid,”\\nIEEE Internet of Things Journal, vol. 6, no. 5, pp. 7659-7669, Oct.\\n2019.\\n[7] M. Nabil, M. Ismail, M. Mahmoud, M. Shahin, K. Qaraqe, and E.\\nSer pedin, “Deep recurrent electricity theft detection in AMI\\nnetworks with random tuning of hyper-parameters,” in 24th\\nInternational Conference on Pattern Recognition (ICPR), pp. 740-\\n745, Aug. 2018\\n[8] S. Salinas, M. Li, and P. Li, “Privacy-preserving energy theft\\ndetection in smart grids: A P2P computing approach,” IEEE Journal\\non Selected Areas in Communications, vol. 31, no. 9, pp. 257-267,\\nSep. 2013\\n[9] V. C. Gungor, D. Sahin, T. Kocak, S. Ergut, C. Buccella, C. Cecati,\\nand G. P. Hancke, “A survey on smart grid potential applications\\nand communication requirements,” IEEE Transactions on Industrial\\nInformatics, vol. 9, no. 1, pp. 28-42, Feb. 2013.\\nInternational Journal of Engineering Research & Technology (IJERT)\\nISSN: 2278-0181\\nPublished by, www.ijert.org\\nICCIDT - 2022 Conference Proceedings\\nVolume 10, Issue 04\\nSpecial Issue - 2022\\n104'}]"
      ]
     },
     "execution_count": 106,
     "metadata": {},
     "output_type": "execute_result"
    }
   ],
   "source": [
    "data = parser.get_one_result(\"paper_parser\", id)\n",
    "data"
   ]
  },
  {
   "cell_type": "code",
   "execution_count": 107,
   "metadata": {},
   "outputs": [],
   "source": [
    "keywords = data[0]['keywords']\n",
    "references = data[0]['references']\n",
    "# abstract = data[0]['abstract']"
   ]
  },
  {
   "cell_type": "code",
   "execution_count": 108,
   "metadata": {},
   "outputs": [],
   "source": [
    "def convert_to_file(text, file_path):\n",
    "    \n",
    "    with open(file_path, 'w') as file:\n",
    "        file.write(text)\n",
    "\n",
    "    return file_path\n",
    "\n",
    "def convert_to_plaintext(input_string):\n",
    "    # Use regular expression to remove non-alphabetic characters\n",
    "    clean_string = re.sub(r'[^a-zA-Z ]', '', input_string)\n",
    "    return clean_string"
   ]
  },
  {
   "cell_type": "code",
   "execution_count": 109,
   "metadata": {},
   "outputs": [
    {
     "data": {
      "text/plain": [
       "'extracted_text/abc.txt'"
      ]
     },
     "execution_count": 109,
     "metadata": {},
     "output_type": "execute_result"
    }
   ],
   "source": [
    "convert_to_file(references, 'extracted_text/abc.txt')"
   ]
  },
  {
   "cell_type": "code",
   "execution_count": 110,
   "metadata": {},
   "outputs": [],
   "source": [
    "def extract_words_in_quotes(input_string):\n",
    "    clean = re.sub(r'\\n', ' ', input_string)\n",
    "    pattern = r'[“\"]([^”\"]*)[”\"]'\n",
    "    matches = re.findall(pattern, clean)\n",
    "    \n",
    "    return matches"
   ]
  },
  {
   "cell_type": "code",
   "execution_count": 111,
   "metadata": {},
   "outputs": [
    {
     "data": {
      "text/plain": [
       "'Electricity theft detection in AMI using customers consumption patterns,'"
      ]
     },
     "execution_count": 111,
     "metadata": {},
     "output_type": "execute_result"
    }
   ],
   "source": [
    "names = extract_words_in_quotes(references)\n",
    "names[1]"
   ]
  },
  {
   "cell_type": "markdown",
   "metadata": {},
   "source": [
    "Scraping"
   ]
  },
  {
   "cell_type": "code",
   "execution_count": 112,
   "metadata": {},
   "outputs": [],
   "source": [
    "def get_abstract_from_paper_url(paper_page_url, headers):\n",
    "    response = requests.get(paper_page_url, headers=headers)\n",
    "\n",
    "    if response.status_code == 200:\n",
    "        paper_soup = BeautifulSoup(response.text, 'html.parser')\n",
    "\n",
    "        abstract_element = paper_soup.find('div', {'class': 'nova-legacy-e-text nova-legacy-e-text--size-m nova-legacy-e-text--family-sans-serif nova-legacy-e-text--spacing-none nova-legacy-e-text--color-grey-800 research-detail-middle-section__abstract'})\n",
    "        \n",
    "        if abstract_element:\n",
    "            abstract = abstract_element.get_text(strip=True)\n",
    "            return abstract\n",
    "        else:\n",
    "            return \"Abstract not found.\"\n",
    "    else:\n",
    "        return f\"Failed to retrieve paper page: {response.status_code}\""
   ]
  },
  {
   "cell_type": "code",
   "execution_count": 123,
   "metadata": {},
   "outputs": [],
   "source": [
    "def open_paper_link_by_name(paper_name):\n",
    "    base_url = \"https://www.researchgate.net/search/publication?q=\"\n",
    "    search_url = base_url + paper_name.replace(\" \", \"+\")\n",
    "    headers = {\n",
    "    'User-Agent': 'Mozilla/5.0 (Windows NT 10.0; Win64; x64) AppleWebKit/537.36 (KHTML, like Gecko) Chrome/91.0.4472.124 Safari/537.36',\n",
    "    }\n",
    "\n",
    "\n",
    "    # Make a request to the ResearchGate search page\n",
    "    response = requests.get(search_url, headers=headers)\n",
    "\n",
    "    if response.status_code == 200:\n",
    "        soup = BeautifulSoup(response.text, 'html.parser')\n",
    "\n",
    "        # Extract all search results\n",
    "        result_links = soup.find_all('a', {'class':  ['nova-legacy-e-link', 'nova-legacy-e-link--color-inherit', 'nova-legacy-e-link--theme-bare']})\n",
    "\n",
    "        if result_links:\n",
    "            print(\"Resutls found\")\n",
    "\n",
    "            for link in result_links:\n",
    "                result_name = link.get_text(strip=True)\n",
    "                # print(\"search: \",result_name)\n",
    "\n",
    "                result_name = convert_to_plaintext(result_name)\n",
    "                # print(\"plain_name:\" ,result_name)\n",
    "\n",
    "                # Check if the result name matches the given paper name\n",
    "                if paper_name.lower() in result_name.lower():\n",
    "                    paper_page_url = \"https://www.researchgate.net/\" + link['href']\n",
    "                    abstract = get_abstract_from_paper_url(paper_page_url, headers=headers)\n",
    "                    print(\"full link: \",paper_page_url)\n",
    "                    print(\"abstact: \",abstract)\n",
    "\n",
    "                    return result_name, paper_page_url, abstract\n",
    "\n",
    "\n",
    "            print(f\"No exact match found for '{paper_name}' in the search results.\")    \n",
    "            # return None, None, None\n",
    "        else:\n",
    "            return f\"No results found for '{paper_name}'.\"\n",
    "    else:\n",
    "        return f\"Failed to perform the search: {response.status_code}\""
   ]
  },
  {
   "cell_type": "code",
   "execution_count": 114,
   "metadata": {},
   "outputs": [
    {
     "data": {
      "text/plain": [
       "'Scikit-learn: Machine learning in Python,'"
      ]
     },
     "execution_count": 114,
     "metadata": {},
     "output_type": "execute_result"
    }
   ],
   "source": [
    "names[3]"
   ]
  },
  {
   "cell_type": "code",
   "execution_count": 124,
   "metadata": {},
   "outputs": [
    {
     "name": "stdout",
     "output_type": "stream",
     "text": [
      "Resutls found\n",
      "No exact match found for 'Scikitlearn Machine learning in Python' in the search results.\n"
     ]
    }
   ],
   "source": [
    "paper_name_to_search = convert_to_plaintext(names[3])\n",
    "result = open_paper_link_by_name(paper_name_to_search)\n"
   ]
  },
  {
   "cell_type": "code",
   "execution_count": null,
   "metadata": {},
   "outputs": [],
   "source": []
  },
  {
   "cell_type": "code",
   "execution_count": 116,
   "metadata": {},
   "outputs": [
    {
     "name": "stdout",
     "output_type": "stream",
     "text": [
      "None\n"
     ]
    }
   ],
   "source": [
    "print(result)"
   ]
  },
  {
   "cell_type": "code",
   "execution_count": 122,
   "metadata": {},
   "outputs": [
    {
     "name": "stdout",
     "output_type": "stream",
     "text": [
      "No result found\n"
     ]
    }
   ],
   "source": [
    "if result:\n",
    "    name, link, abstract1 = result[:3]\n",
    "    print()\n",
    "else:\n",
    "    print(\"No result found\")\n"
   ]
  },
  {
   "cell_type": "code",
   "execution_count": 121,
   "metadata": {},
   "outputs": [
    {
     "ename": "NameError",
     "evalue": "name 'abstract1' is not defined",
     "output_type": "error",
     "traceback": [
      "\u001b[1;31m---------------------------------------------------------------------------\u001b[0m",
      "\u001b[1;31mNameError\u001b[0m                                 Traceback (most recent call last)",
      "Cell \u001b[1;32mIn[121], line 1\u001b[0m\n\u001b[1;32m----> 1\u001b[0m name, link, \u001b[43mabstract1\u001b[49m    \n",
      "\u001b[1;31mNameError\u001b[0m: name 'abstract1' is not defined"
     ]
    }
   ],
   "source": [
    "  "
   ]
  }
 ],
 "metadata": {
  "kernelspec": {
   "display_name": "myenv",
   "language": "python",
   "name": "python3"
  },
  "language_info": {
   "codemirror_mode": {
    "name": "ipython",
    "version": 3
   },
   "file_extension": ".py",
   "mimetype": "text/x-python",
   "name": "python",
   "nbconvert_exporter": "python",
   "pygments_lexer": "ipython3",
   "version": "3.10.9"
  }
 },
 "nbformat": 4,
 "nbformat_minor": 2
}
