{
 "cells": [
  {
   "cell_type": "code",
   "execution_count": 2,
   "metadata": {},
   "outputs": [
    {
     "name": "stdout",
     "output_type": "stream",
     "text": [
      "pong\n"
     ]
    }
   ],
   "source": [
    "import pydocparser\n",
    "\n",
    "api_key = 'a97eb5d696857fea8bfa9e57fb9994017a3bb7da'\n",
    "parser_id = 'paper_parser'\n",
    "\n",
    "parser = pydocparser.Parser()\n",
    "parser.login(api_key)\n",
    "result = parser.ping()\n",
    "print(result)"
   ]
  },
  {
   "cell_type": "code",
   "execution_count": 3,
   "metadata": {},
   "outputs": [
    {
     "data": {
      "text/plain": [
       "[{'id': 'ucciynzmvnap', 'label': 'paper_parser'},\n",
       " {'id': 'lnhiyzpmkoyj', 'label': 'pdf_parser'}]"
      ]
     },
     "execution_count": 3,
     "metadata": {},
     "output_type": "execute_result"
    }
   ],
   "source": [
    "parsers = parser.list_parsers()\n",
    "parsers"
   ]
  },
  {
   "cell_type": "code",
   "execution_count": 4,
   "metadata": {},
   "outputs": [],
   "source": [
    "id = parser.upload_file_by_path(\"data_samples/electricity-theft-detection-using-machine-learning-IJERTCONV10IS04024.pdf\", \"paper_parser\") "
   ]
  },
  {
   "cell_type": "code",
   "execution_count": 5,
   "metadata": {},
   "outputs": [],
   "source": [
    "data = parser.get_one_result(\"paper_parser\", id)"
   ]
  },
  {
   "cell_type": "code",
   "execution_count": 6,
   "metadata": {},
   "outputs": [
    {
     "data": {
      "text/plain": [
       "[{'id': 'd6b3724a8b804670377019f0759a95b7',\n",
       "  'document_id': '7c545cd9ab2fb771be6f5ab82579833b',\n",
       "  'remote_id': '',\n",
       "  'file_name': 'electricity-theft-detection-using-machine-learning-IJERTCONV10IS04024.pdf',\n",
       "  'media_link': 'https://api.docparser.com/v1/document/media/wXoTq27bjIzsrCCIsm2KHvWS6TRyuZkMPrqyumNlrr13alakMyntbBQaYV03A5jRTBjON-ogp_eW5dqfJw8rvR5rh-dkdqzHAsD8KyldkEk',\n",
       "  'media_link_original': 'https://api.docparser.com/v1/document/media/wXoTq27bjIzsrCCIsm2KHvWS6TRyuZkMPrqyumNlrr13alakMyntbBQaYV03A5jRTBjON-ogp_eW5dqfJw8rvR5rh-dkdqzHAsD8KyldkEk/original',\n",
       "  'media_link_data': 'https://api.docparser.com/v1/document/media/wXoTq27bjIzsrCCIsm2KHvWS6TRyuZkMPrqyumNlrr13alakMyntbBQaYV03A5jRTBjON-ogp_eW5dqfJw8rvR5rh-dkdqzHAsD8KyldkEk/data',\n",
       "  'page_count': 4,\n",
       "  'uploaded_at': '2024-01-22T15:55:25+00:00',\n",
       "  'processed_at': '2024-01-22T15:55:27+00:00',\n",
       "  'uploaded_at_utc': '2024-01-22T15:55:25+00:00',\n",
       "  'uploaded_at_user': '2024-01-22T07:55:25+00:00',\n",
       "  'processed_at_utc': '2024-01-22T15:55:27+00:00',\n",
       "  'processed_at_user': '2024-01-22T07:55:27+00:00',\n",
       "  'keywords': \"-Energy Meter, Convolutional Neural Network ,                   additionally affect the decisions made through the SO\\n   Advanced Meter Infrastructure, System Operators, System                  misleading behaviour does not simplest cause economic\\n   Grid                                                                     regarding grid management, which can also reason the\\n                     I. INTRODUCTION                                        instability of the grid or blackout in intense cases . energy\\n Energy meter, or kilowatt-hour meter is a tool that measures               theft is a critical trouble inside the existing power grid that\\nthe amount of electric energy consumed via a house, a                       causes hefty monetary losses. We deal with in this paper is a\\ncommercial enterprise,or an electrically powered tool                       way to permit the to be able to display load, compute\\n.Electric utilities use power meters installed at purchaser                 payments, and discover fraudulent clients with keeping their\\npremises for billing and monitoring functions. they're usually              privateness.\\ncalibrated in billing units, they may be commonly read once\",\n",
       "  'abstract': \"- Nowadays energy is very crucial , so we want to make             each billing length.The loss of power in electricity\\nthe proper use of energy sources particularly electricity                   transmission and distribution is an essential problem\\nutilization. As one of the foremost elements of the nontechnical            confronted through electricity groups all over the\\nlosses (NTLs) in distribution networks, the energy theft reasons            international. The energy losses are commonly categorised\\ngreat harm to strength grids, which influences power supply\\ngreat and decreases working profits. In advanced metering\\n                                                                            into technical losses (TLs) and nontechnical losses (NTLs).\\ninfrastructure (AMI), smart meters (SMs) are hooked up on the               The TL is inherent to the transportation of strength, that is\\ncustomer aspect to ship excellent- grained energy consumption               resulting from inner moves inside the energy machine\\nreadings periodically for load tracking, electricity management,            additives along with the transmission liner and transformers;\\nbilling, and so forth. however, fraudulent purchasers launch                the NTL is described as the distinction between overall losses\\nenergy robbery cyber- attacks with the aid of reporting false               and TLs, which is basically caused by electricity theft.\\nreadings to lessen their bills illegally. these assaults do not best        without a doubt, the strength theft happens on the whole thru\\nmotive monetary losses however can also degrade the grid                    physical assaults like line tapping, meter breaking, or meter\\noverall performance due to the fact the readings are used for               studying tampering. Those power fraud behaviours may\\ngrid management. To perceive those attackers, the prevailing\\nschemes rent device gaining knowledge of fashions using the\\n                                                                            additionally bring about the revenue loss of power agencies.\\npurchasers exceptional-grained readings, which violates the                 With the implementation of the advanced metering\\nclients privacy via revealing their way of life. on this paper, we          infrastructure (AMI) in smart grids, strength utilities acquired\\nadvise an green scheme to discover strength robbery, compute                huge quantities of electricity intake data at a high frequency\\npayments and display loads while maintain the purchasers                    from smart meters, that's beneficial for us to discover\\nprivacy. The idea is that encrypt their readings using symmetric            electricity theft. AMI permits the bidirectional verbal\\nencryption, and the usage of k method set of rules                          exchange between the Energy meters (EMs),which might be\\n   (i)Compute the bills following dynamic pricing approach,                 deployed at client premises, and SO for everyday load\\n                                                                            tracking, electricity control, and billing. AMI community\\n   (ii)Reveal the grid load, and\\n                                                                            collects nice-grained power intake readings (every couple of\\n   (iii)Evaluate a gadget-mastering version to discover                     minutes) measured/despatched by way of EMs. Then, these\\n   fraudulent clients, without being capable of learn the person            readings are forwarded to the SO for tracking the weight and\\n   readings to hold consumers privacy.                                      calculating the consumers’ bills.In SG, power robbery attacks\\n   We adapted a symmetric encryption scheme so that the                     can be launched by means of fraudulent purchasers who\\n   encrypted readings are aggregated for billing and load                   tamper with their EMs so they file decrease consumption\\n   tracking and only the aggregated fee is found out to the SO.             readings to lessen strength invoice illegally.This losses,\\n                                                                            however also the false readings used for load tracking may\\n   Keywords -Energy Meter, Convolutional Neural Network ,                   additionally affect the decisions made through the SO\\n   Advanced Meter Infrastructure, System Operators, System                  misleading behaviour does not simplest cause economic\\n   Grid                                                                     regarding grid management, which can also reason the\\n                     I. INTRODUCTION                                        instability of the grid or blackout in intense cases . energy\\n Energy meter, or kilowatt-hour meter is a tool that measures               theft is a critical trouble inside the existing power grid that\\nthe amount of electric energy consumed via a house, a                       causes hefty monetary losses. We deal with in this paper is a\\ncommercial enterprise,or an electrically powered tool                       way to permit the to be able to display load, compute\\n.Electric utilities use power meters installed at purchaser                 payments, and discover fraudulent clients with keeping their\\npremises for billing and monitoring functions. they're usually              privateness.\\ncalibrated in billing units, they may be commonly read once\",\n",
       "  'references': \"[1] D. Yao, M. Wen, X. Liang, Z. Fu, K. Zhang, and B. Yang, “Energy\\n                                                                              theft detection with energy privacy preservation in the smart grid,”\\n                                                                              IEEE Internet of Things Journal, vol. 6, no. 5, pp. 7659-7669, Oct.\\n                                                                              2019\\n                                                                        [2]   P. Jokar, N. Arianpoo, and V. C. M. Leung, “Electricity theft\\n                                                                              detection in AMI using customers consumption patterns,” IEEE\\n                                                                              Transactions on Smart Grid, vol. 7, no. 1, pp. 216-226, Jan. 2016\\n                                                                        [3]   M. Nabil, M. Ismail, M. M. E. A. Mahmoud, W. Alasmary, and E\\n                                                                              Ser pedin, “PPETD: privacypreserving electricity theft detection\\n                                                                              scheme with load monitoring and billing for AMI networks,” IEEE\\n                                                                              Access, vol. 7, pp. 96 334-96 348, Jun. 2019\\n                                                                        [4]   F. Pedregosa et al., “Scikit-learn: Machine learning in Python,”\\n                                                                              Journal of Machine Learning Research, vol. 12, pp. 2825- 830, Oct.\\n                                                                              2011\\n                                                                        [5]   S. Salinas and P. Li, “Privacy-preserving energy theft detection in\\n                                                                              microgrids: A state estimation approach,” IEEE Transactions on\\n                                                                              Power Systems, vol. 31, no. 2, pp. 883-894, Mar. 2016.\\n                                                                        [6]   D. Yao, M. Wen, X. Liang, Z. Fu, K. Zhang, and B. Yang, “Energy\\n                                                                              theft detection with energy privacy preservation in the smart grid,”\\n                                                                              IEEE Internet of Things Journal, vol. 6, no. 5, pp. 7659-7669, Oct.\\n                                                                              2019.\\n                                                                        [7]   M. Nabil, M. Ismail, M. Mahmoud, M. Shahin, K. Qaraqe, and E.\\n                                                                              Ser pedin, “Deep recurrent electricity theft detection in AMI\\n                                                                              networks with random tuning of hyper-parameters,” in 24th\\n                                                                              International Conference on Pattern Recognition (ICPR), pp. 740-\\n                V.       CONCLUSION                                           745, Aug. 2018\\n                                                                        [8]   S. Salinas, M. Li, and P. Li, “Privacy-preserving energy theft\\n                                                                              detection in smart grids: A P2P computing approach,” IEEE Journal\\nIn this paper, we've got proposed , a unique scheme that uses                 on Selected Areas in Communications, vol. 31, no. 9, pp. 257-267,\\nencrypted fine-grained electricity intake readings stated by                  Sep. 2013\\nway of the EMs for electricity theft detection, load                    [9]   V. C. Gungor, D. Sahin, T. Kocak, S. Ergut, C. Buccella, C. Cecati,\\nmonitoring, and computation of electricity payments                           and G. P. Hancke, “A survey on smart grid potential applications\\n                                                                              and communication requirements,” IEEE Transactions on Industrial\\nfollowing dynamic pricing while keeping clients’ privacy. To                  Informatics, vol. 9, no. 1, pp. 28-42, Feb. 2013.\\nhold privateness, no entity is able to analyze the first-rate-\\ngrained energy intake readings of person clients. Symmetric\\nencryption is used by each purchaser to encrypt the power\\nintake readings and the SO makes use of a Symmetric\\ndecryption key to compute bills and overall power intake for\\nload management, and compare a machine getting to know\\nmodel the usage of a set of encrypted electricity intake\\nreadings to detect electricity robbery. furthermore, enormous\\nsimulations have been performed the usage of real dataset to\\nassess our scheme. The given consequences suggest that our\\nscheme can locate fraudulent clients as it should be and\\nmaintain consumers’ privacy with proper conversation and\\ncomputation overhead.\\n\\n\\n\\n\\nVolume 10, Issue 04                                 Published by, www.ijert.org                                                             104\"}]"
      ]
     },
     "execution_count": 6,
     "metadata": {},
     "output_type": "execute_result"
    }
   ],
   "source": [
    "\n",
    "data"
   ]
  },
  {
   "cell_type": "code",
   "execution_count": 7,
   "metadata": {},
   "outputs": [
    {
     "data": {
      "text/plain": [
       "\"-Energy Meter, Convolutional Neural Network ,                   additionally affect the decisions made through the SO\\n   Advanced Meter Infrastructure, System Operators, System                  misleading behaviour does not simplest cause economic\\n   Grid                                                                     regarding grid management, which can also reason the\\n                     I. INTRODUCTION                                        instability of the grid or blackout in intense cases . energy\\n Energy meter, or kilowatt-hour meter is a tool that measures               theft is a critical trouble inside the existing power grid that\\nthe amount of electric energy consumed via a house, a                       causes hefty monetary losses. We deal with in this paper is a\\ncommercial enterprise,or an electrically powered tool                       way to permit the to be able to display load, compute\\n.Electric utilities use power meters installed at purchaser                 payments, and discover fraudulent clients with keeping their\\npremises for billing and monitoring functions. they're usually              privateness.\\ncalibrated in billing units, they may be commonly read once\""
      ]
     },
     "execution_count": 7,
     "metadata": {},
     "output_type": "execute_result"
    }
   ],
   "source": [
    "keywords = data[0]['keywords']\n",
    "keywords"
   ]
  },
  {
   "cell_type": "code",
   "execution_count": 8,
   "metadata": {},
   "outputs": [
    {
     "data": {
      "text/plain": [
       "\"- Nowadays energy is very crucial , so we want to make             each billing length.The loss of power in electricity\\nthe proper use of energy sources particularly electricity                   transmission and distribution is an essential problem\\nutilization. As one of the foremost elements of the nontechnical            confronted through electricity groups all over the\\nlosses (NTLs) in distribution networks, the energy theft reasons            international. The energy losses are commonly categorised\\ngreat harm to strength grids, which influences power supply\\ngreat and decreases working profits. In advanced metering\\n                                                                            into technical losses (TLs) and nontechnical losses (NTLs).\\ninfrastructure (AMI), smart meters (SMs) are hooked up on the               The TL is inherent to the transportation of strength, that is\\ncustomer aspect to ship excellent- grained energy consumption               resulting from inner moves inside the energy machine\\nreadings periodically for load tracking, electricity management,            additives along with the transmission liner and transformers;\\nbilling, and so forth. however, fraudulent purchasers launch                the NTL is described as the distinction between overall losses\\nenergy robbery cyber- attacks with the aid of reporting false               and TLs, which is basically caused by electricity theft.\\nreadings to lessen their bills illegally. these assaults do not best        without a doubt, the strength theft happens on the whole thru\\nmotive monetary losses however can also degrade the grid                    physical assaults like line tapping, meter breaking, or meter\\noverall performance due to the fact the readings are used for               studying tampering. Those power fraud behaviours may\\ngrid management. To perceive those attackers, the prevailing\\nschemes rent device gaining knowledge of fashions using the\\n                                                                            additionally bring about the revenue loss of power agencies.\\npurchasers exceptional-grained readings, which violates the                 With the implementation of the advanced metering\\nclients privacy via revealing their way of life. on this paper, we          infrastructure (AMI) in smart grids, strength utilities acquired\\nadvise an green scheme to discover strength robbery, compute                huge quantities of electricity intake data at a high frequency\\npayments and display loads while maintain the purchasers                    from smart meters, that's beneficial for us to discover\\nprivacy. The idea is that encrypt their readings using symmetric            electricity theft. AMI permits the bidirectional verbal\\nencryption, and the usage of k method set of rules                          exchange between the Energy meters (EMs),which might be\\n   (i)Compute the bills following dynamic pricing approach,                 deployed at client premises, and SO for everyday load\\n                                                                            tracking, electricity control, and billing. AMI community\\n   (ii)Reveal the grid load, and\\n                                                                            collects nice-grained power intake readings (every couple of\\n   (iii)Evaluate a gadget-mastering version to discover                     minutes) measured/despatched by way of EMs. Then, these\\n   fraudulent clients, without being capable of learn the person            readings are forwarded to the SO for tracking the weight and\\n   readings to hold consumers privacy.                                      calculating the consumers’ bills.In SG, power robbery attacks\\n   We adapted a symmetric encryption scheme so that the                     can be launched by means of fraudulent purchasers who\\n   encrypted readings are aggregated for billing and load                   tamper with their EMs so they file decrease consumption\\n   tracking and only the aggregated fee is found out to the SO.             readings to lessen strength invoice illegally.This losses,\\n                                                                            however also the false readings used for load tracking may\\n   Keywords -Energy Meter, Convolutional Neural Network ,                   additionally affect the decisions made through the SO\\n   Advanced Meter Infrastructure, System Operators, System                  misleading behaviour does not simplest cause economic\\n   Grid                                                                     regarding grid management, which can also reason the\\n                     I. INTRODUCTION                                        instability of the grid or blackout in intense cases . energy\\n Energy meter, or kilowatt-hour meter is a tool that measures               theft is a critical trouble inside the existing power grid that\\nthe amount of electric energy consumed via a house, a                       causes hefty monetary losses. We deal with in this paper is a\\ncommercial enterprise,or an electrically powered tool                       way to permit the to be able to display load, compute\\n.Electric utilities use power meters installed at purchaser                 payments, and discover fraudulent clients with keeping their\\npremises for billing and monitoring functions. they're usually              privateness.\\ncalibrated in billing units, they may be commonly read once\""
      ]
     },
     "execution_count": 8,
     "metadata": {},
     "output_type": "execute_result"
    }
   ],
   "source": [
    "abstract = data[0]['abstract']\n",
    "abstract"
   ]
  },
  {
   "cell_type": "code",
   "execution_count": 10,
   "metadata": {},
   "outputs": [
    {
     "data": {
      "text/plain": [
       "\"[1] D. Yao, M. Wen, X. Liang, Z. Fu, K. Zhang, and B. Yang, “Energy\\n                                                                              theft detection with energy privacy preservation in the smart grid,”\\n                                                                              IEEE Internet of Things Journal, vol. 6, no. 5, pp. 7659-7669, Oct.\\n                                                                              2019\\n                                                                        [2]   P. Jokar, N. Arianpoo, and V. C. M. Leung, “Electricity theft\\n                                                                              detection in AMI using customers consumption patterns,” IEEE\\n                                                                              Transactions on Smart Grid, vol. 7, no. 1, pp. 216-226, Jan. 2016\\n                                                                        [3]   M. Nabil, M. Ismail, M. M. E. A. Mahmoud, W. Alasmary, and E\\n                                                                              Ser pedin, “PPETD: privacypreserving electricity theft detection\\n                                                                              scheme with load monitoring and billing for AMI networks,” IEEE\\n                                                                              Access, vol. 7, pp. 96 334-96 348, Jun. 2019\\n                                                                        [4]   F. Pedregosa et al., “Scikit-learn: Machine learning in Python,”\\n                                                                              Journal of Machine Learning Research, vol. 12, pp. 2825- 830, Oct.\\n                                                                              2011\\n                                                                        [5]   S. Salinas and P. Li, “Privacy-preserving energy theft detection in\\n                                                                              microgrids: A state estimation approach,” IEEE Transactions on\\n                                                                              Power Systems, vol. 31, no. 2, pp. 883-894, Mar. 2016.\\n                                                                        [6]   D. Yao, M. Wen, X. Liang, Z. Fu, K. Zhang, and B. Yang, “Energy\\n                                                                              theft detection with energy privacy preservation in the smart grid,”\\n                                                                              IEEE Internet of Things Journal, vol. 6, no. 5, pp. 7659-7669, Oct.\\n                                                                              2019.\\n                                                                        [7]   M. Nabil, M. Ismail, M. Mahmoud, M. Shahin, K. Qaraqe, and E.\\n                                                                              Ser pedin, “Deep recurrent electricity theft detection in AMI\\n                                                                              networks with random tuning of hyper-parameters,” in 24th\\n                                                                              International Conference on Pattern Recognition (ICPR), pp. 740-\\n                V.       CONCLUSION                                           745, Aug. 2018\\n                                                                        [8]   S. Salinas, M. Li, and P. Li, “Privacy-preserving energy theft\\n                                                                              detection in smart grids: A P2P computing approach,” IEEE Journal\\nIn this paper, we've got proposed , a unique scheme that uses                 on Selected Areas in Communications, vol. 31, no. 9, pp. 257-267,\\nencrypted fine-grained electricity intake readings stated by                  Sep. 2013\\nway of the EMs for electricity theft detection, load                    [9]   V. C. Gungor, D. Sahin, T. Kocak, S. Ergut, C. Buccella, C. Cecati,\\nmonitoring, and computation of electricity payments                           and G. P. Hancke, “A survey on smart grid potential applications\\n                                                                              and communication requirements,” IEEE Transactions on Industrial\\nfollowing dynamic pricing while keeping clients’ privacy. To                  Informatics, vol. 9, no. 1, pp. 28-42, Feb. 2013.\\nhold privateness, no entity is able to analyze the first-rate-\\ngrained energy intake readings of person clients. Symmetric\\nencryption is used by each purchaser to encrypt the power\\nintake readings and the SO makes use of a Symmetric\\ndecryption key to compute bills and overall power intake for\\nload management, and compare a machine getting to know\\nmodel the usage of a set of encrypted electricity intake\\nreadings to detect electricity robbery. furthermore, enormous\\nsimulations have been performed the usage of real dataset to\\nassess our scheme. The given consequences suggest that our\\nscheme can locate fraudulent clients as it should be and\\nmaintain consumers’ privacy with proper conversation and\\ncomputation overhead.\\n\\n\\n\\n\\nVolume 10, Issue 04                                 Published by, www.ijert.org                                                             104\""
      ]
     },
     "execution_count": 10,
     "metadata": {},
     "output_type": "execute_result"
    }
   ],
   "source": [
    "references = data[0]['references']\n",
    "references"
   ]
  },
  {
   "cell_type": "code",
   "execution_count": 2,
   "metadata": {},
   "outputs": [
    {
     "ename": "DeprecationError",
     "evalue": "reader.numPages is deprecated and was removed in PyPDF2 3.0.0. Use len(reader.pages) instead.",
     "output_type": "error",
     "traceback": [
      "\u001b[1;31m---------------------------------------------------------------------------\u001b[0m",
      "\u001b[1;31mDeprecationError\u001b[0m                          Traceback (most recent call last)",
      "Cell \u001b[1;32mIn[2], line 20\u001b[0m\n\u001b[0;32m     17\u001b[0m input_pdf_path \u001b[38;5;241m=\u001b[39m \u001b[38;5;124m\"\u001b[39m\u001b[38;5;124mdata_samples/electricity-theft-detection-using-machine-learning-IJERTCONV10IS04024.pdf\u001b[39m\u001b[38;5;124m\"\u001b[39m\n\u001b[0;32m     18\u001b[0m output_pdf_path_prefix \u001b[38;5;241m=\u001b[39m \u001b[38;5;124m\"\u001b[39m\u001b[38;5;124mextracted_text/output_split\u001b[39m\u001b[38;5;124m\"\u001b[39m\n\u001b[1;32m---> 20\u001b[0m \u001b[43msplit_pdf_vertically\u001b[49m\u001b[43m(\u001b[49m\u001b[43minput_pdf_path\u001b[49m\u001b[43m,\u001b[49m\u001b[43m \u001b[49m\u001b[43moutput_pdf_path_prefix\u001b[49m\u001b[43m)\u001b[49m\n",
      "Cell \u001b[1;32mIn[2], line 7\u001b[0m, in \u001b[0;36msplit_pdf_vertically\u001b[1;34m(input_pdf_path, output_pdf_path_prefix)\u001b[0m\n\u001b[0;32m      4\u001b[0m \u001b[38;5;28;01mwith\u001b[39;00m \u001b[38;5;28mopen\u001b[39m(input_pdf_path, \u001b[38;5;124m'\u001b[39m\u001b[38;5;124mrb\u001b[39m\u001b[38;5;124m'\u001b[39m) \u001b[38;5;28;01mas\u001b[39;00m pdf_file:\n\u001b[0;32m      5\u001b[0m     pdf_reader \u001b[38;5;241m=\u001b[39m PyPDF2\u001b[38;5;241m.\u001b[39mPdfReader(pdf_file)\n\u001b[1;32m----> 7\u001b[0m     \u001b[38;5;28;01mfor\u001b[39;00m page_num \u001b[38;5;129;01min\u001b[39;00m \u001b[38;5;28mrange\u001b[39m(\u001b[43mpdf_reader\u001b[49m\u001b[38;5;241;43m.\u001b[39;49m\u001b[43mnumPages\u001b[49m):\n\u001b[0;32m      8\u001b[0m         pdf_writer \u001b[38;5;241m=\u001b[39m PyPDF2\u001b[38;5;241m.\u001b[39mPdfWriter()\n\u001b[0;32m      9\u001b[0m         pdf_writer\u001b[38;5;241m.\u001b[39maddPage(pdf_reader\u001b[38;5;241m.\u001b[39mgetPage(page_num))\n",
      "File \u001b[1;32md:\\daily leanrings\\PdfTask\\myenv\\lib\\site-packages\\PyPDF2\\_reader.py:467\u001b[0m, in \u001b[0;36mPdfReader.numPages\u001b[1;34m(self)\u001b[0m\n\u001b[0;32m    460\u001b[0m \u001b[38;5;129m@property\u001b[39m\n\u001b[0;32m    461\u001b[0m \u001b[38;5;28;01mdef\u001b[39;00m \u001b[38;5;21mnumPages\u001b[39m(\u001b[38;5;28mself\u001b[39m) \u001b[38;5;241m-\u001b[39m\u001b[38;5;241m>\u001b[39m \u001b[38;5;28mint\u001b[39m:  \u001b[38;5;66;03m# pragma: no cover\u001b[39;00m\n\u001b[0;32m    462\u001b[0m \u001b[38;5;250m    \u001b[39m\u001b[38;5;124;03m\"\"\"\u001b[39;00m\n\u001b[0;32m    463\u001b[0m \u001b[38;5;124;03m    .. deprecated:: 1.28.0\u001b[39;00m\n\u001b[0;32m    464\u001b[0m \n\u001b[0;32m    465\u001b[0m \u001b[38;5;124;03m        Use :code:`len(reader.pages)` instead.\u001b[39;00m\n\u001b[0;32m    466\u001b[0m \u001b[38;5;124;03m    \"\"\"\u001b[39;00m\n\u001b[1;32m--> 467\u001b[0m     \u001b[43mdeprecation_with_replacement\u001b[49m\u001b[43m(\u001b[49m\u001b[38;5;124;43m\"\u001b[39;49m\u001b[38;5;124;43mreader.numPages\u001b[39;49m\u001b[38;5;124;43m\"\u001b[39;49m\u001b[43m,\u001b[49m\u001b[43m \u001b[49m\u001b[38;5;124;43m\"\u001b[39;49m\u001b[38;5;124;43mlen(reader.pages)\u001b[39;49m\u001b[38;5;124;43m\"\u001b[39;49m\u001b[43m,\u001b[49m\u001b[43m \u001b[49m\u001b[38;5;124;43m\"\u001b[39;49m\u001b[38;5;124;43m3.0.0\u001b[39;49m\u001b[38;5;124;43m\"\u001b[39;49m\u001b[43m)\u001b[49m\n\u001b[0;32m    468\u001b[0m     \u001b[38;5;28;01mreturn\u001b[39;00m \u001b[38;5;28mself\u001b[39m\u001b[38;5;241m.\u001b[39m_get_num_pages()\n",
      "File \u001b[1;32md:\\daily leanrings\\PdfTask\\myenv\\lib\\site-packages\\PyPDF2\\_utils.py:369\u001b[0m, in \u001b[0;36mdeprecation_with_replacement\u001b[1;34m(old_name, new_name, removed_in)\u001b[0m\n\u001b[0;32m    363\u001b[0m \u001b[38;5;28;01mdef\u001b[39;00m \u001b[38;5;21mdeprecation_with_replacement\u001b[39m(\n\u001b[0;32m    364\u001b[0m     old_name: \u001b[38;5;28mstr\u001b[39m, new_name: \u001b[38;5;28mstr\u001b[39m, removed_in: \u001b[38;5;28mstr\u001b[39m \u001b[38;5;241m=\u001b[39m \u001b[38;5;124m\"\u001b[39m\u001b[38;5;124m3.0.0\u001b[39m\u001b[38;5;124m\"\u001b[39m\n\u001b[0;32m    365\u001b[0m ) \u001b[38;5;241m-\u001b[39m\u001b[38;5;241m>\u001b[39m \u001b[38;5;28;01mNone\u001b[39;00m:\n\u001b[0;32m    366\u001b[0m \u001b[38;5;250m    \u001b[39m\u001b[38;5;124;03m\"\"\"\u001b[39;00m\n\u001b[0;32m    367\u001b[0m \u001b[38;5;124;03m    Raise an exception that a feature was already removed, but has a replacement.\u001b[39;00m\n\u001b[0;32m    368\u001b[0m \u001b[38;5;124;03m    \"\"\"\u001b[39;00m\n\u001b[1;32m--> 369\u001b[0m     \u001b[43mdeprecation\u001b[49m\u001b[43m(\u001b[49m\u001b[43mDEPR_MSG_HAPPENED\u001b[49m\u001b[38;5;241;43m.\u001b[39;49m\u001b[43mformat\u001b[49m\u001b[43m(\u001b[49m\u001b[43mold_name\u001b[49m\u001b[43m,\u001b[49m\u001b[43m \u001b[49m\u001b[43mremoved_in\u001b[49m\u001b[43m,\u001b[49m\u001b[43m \u001b[49m\u001b[43mnew_name\u001b[49m\u001b[43m)\u001b[49m\u001b[43m)\u001b[49m\n",
      "File \u001b[1;32md:\\daily leanrings\\PdfTask\\myenv\\lib\\site-packages\\PyPDF2\\_utils.py:351\u001b[0m, in \u001b[0;36mdeprecation\u001b[1;34m(msg)\u001b[0m\n\u001b[0;32m    350\u001b[0m \u001b[38;5;28;01mdef\u001b[39;00m \u001b[38;5;21mdeprecation\u001b[39m(msg: \u001b[38;5;28mstr\u001b[39m) \u001b[38;5;241m-\u001b[39m\u001b[38;5;241m>\u001b[39m \u001b[38;5;28;01mNone\u001b[39;00m:\n\u001b[1;32m--> 351\u001b[0m     \u001b[38;5;28;01mraise\u001b[39;00m DeprecationError(msg)\n",
      "\u001b[1;31mDeprecationError\u001b[0m: reader.numPages is deprecated and was removed in PyPDF2 3.0.0. Use len(reader.pages) instead."
     ]
    }
   ],
   "source": [
    "import PyPDF2\n",
    "\n",
    "def split_pdf_vertically(input_pdf_path, output_pdf_path_prefix):\n",
    "    with open(input_pdf_path, 'rb') as pdf_file:\n",
    "        pdf_reader = PyPDF2.PdfReader(pdf_file)\n",
    "\n",
    "        for page_num in range(len(pdf_reader.pages)):\n",
    "            pdf_writer = PyPDF2.PdfWriter()\n",
    "            pdf_writer.addPage(pdf_reader.getPage(page_num))\n",
    "\n",
    "            output_pdf_path = f\"{output_pdf_path_prefix}_page{page_num + 1}.pdf\"\n",
    "\n",
    "            with open(output_pdf_path, 'wb') as output_pdf_file:\n",
    "                pdf_writer.write(output_pdf_file)\n",
    "\n",
    "if __name__ == \"__main__\":\n",
    "    input_pdf_path = \"data_samples/electricity-theft-detection-using-machine-learning-IJERTCONV10IS04024.pdf\"\n",
    "    output_pdf_path_prefix = \"extracted_text/output_split\"\n",
    "\n",
    "    split_pdf_vertically(input_pdf_path, output_pdf_path_prefix)\n"
   ]
  }
 ],
 "metadata": {
  "kernelspec": {
   "display_name": "myenv",
   "language": "python",
   "name": "python3"
  },
  "language_info": {
   "codemirror_mode": {
    "name": "ipython",
    "version": 3
   },
   "file_extension": ".py",
   "mimetype": "text/x-python",
   "name": "python",
   "nbconvert_exporter": "python",
   "pygments_lexer": "ipython3",
   "version": "3.10.9"
  }
 },
 "nbformat": 4,
 "nbformat_minor": 2
}
